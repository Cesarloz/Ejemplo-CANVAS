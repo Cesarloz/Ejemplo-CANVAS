{
  "nbformat": 4,
  "nbformat_minor": 0,
  "metadata": {
    "colab": {
      "name": "Untitled3.ipynb",
      "provenance": [],
      "include_colab_link": true
    },
    "kernelspec": {
      "name": "python3",
      "display_name": "Python 3"
    }
  },
  "cells": [
    {
      "cell_type": "markdown",
      "metadata": {
        "id": "view-in-github",
        "colab_type": "text"
      },
      "source": [
        "<a href=\"https://colab.research.google.com/github/Cesarloz/Ejemplo-CANVAS/blob/master/Grafica%20de%20funcion.ipynb\" target=\"_parent\"><img src=\"https://colab.research.google.com/assets/colab-badge.svg\" alt=\"Open In Colab\"/></a>"
      ]
    },
    {
      "cell_type": "markdown",
      "metadata": {
        "id": "WjWi5H3DmEwe",
        "colab_type": "text"
      },
      "source": [
        "Librerias y graficos"
      ]
    },
    {
      "cell_type": "code",
      "metadata": {
        "id": "11ujO9JYl8J8",
        "colab_type": "code",
        "colab": {
          "base_uri": "https://localhost:8080/",
          "height": 283
        },
        "outputId": "58432e25-bd50-419d-bee3-f7b2f1d2f433"
      },
      "source": [
        "import matplotlib.pyplot as plt\n",
        "\n",
        "x=[1,2,3,4]\n",
        "y=[4,5,6,7]\n",
        "plt.plot(x,y,\"o\")\n",
        "\n",
        "\n"
      ],
      "execution_count": null,
      "outputs": [
        {
          "output_type": "execute_result",
          "data": {
            "text/plain": [
              "[<matplotlib.lines.Line2D at 0x7f0f131b9278>]"
            ]
          },
          "metadata": {
            "tags": []
          },
          "execution_count": 14
        },
        {
          "output_type": "display_data",
          "data": {
            "image/png": "[encoded data removed]",
            "text/plain": [
              "<Figure size 432x288 with 1 Axes>"
            ]
          },
          "metadata": {
            "tags": []
          }
        }
      ]
    },
    {
      "cell_type": "markdown",
      "metadata": {
        "id": "KNtzm6wVmYNy",
        "colab_type": "text"
      },
      "source": [
        "Arreglos\n"
      ]
    },
    {
      "cell_type": "code",
      "metadata": {
        "id": "jwMZcccwWgsm",
        "colab_type": "code",
        "colab": {}
      },
      "source": [
        ""
      ],
      "execution_count": null,
      "outputs": []
    },
    {
      "cell_type": "code",
      "metadata": {
        "id": "nu0HuNjHWz84",
        "colab_type": "code",
        "colab": {
          "base_uri": "https://localhost:8080/",
          "height": 35
        },
        "outputId": "77ef16b5-4529-48cc-b836-6bf51267c391"
      },
      "source": [
        "import numpy as np\n",
        "import matplotlib.pyplot as plt\n",
        "\n",
        "x=[1,2,3,4,5]\n",
        "x=np.array(x)\n",
        "\n",
        "print(x)"
      ],
      "execution_count": null,
      "outputs": [
        {
          "output_type": "stream",
          "text": [
            "[1 2 3 4 5]\n"
          ],
          "name": "stdout"
        }
      ]
    },
    {
      "cell_type": "code",
      "metadata": {
        "id": "xtVqMk6cXGkl",
        "colab_type": "code",
        "colab": {
          "base_uri": "https://localhost:8080/",
          "height": 332
        },
        "outputId": "a7c7eac2-4bee-4aaa-e6b6-b96e7b4fc7c7"
      },
      "source": [
        "plt.plot(x,(x-5)**(1/2),\"o-\",label=\"datos\")\n",
        "\n",
        "plt.ylabel(\"y\")\n",
        "plt.xlabel(\"x\")\n",
        "plt.title(\"Datos\")\n",
        "plt.grid()\n",
        "plt.legend()\n",
        "plt.show()"
      ],
      "execution_count": null,
      "outputs": [
        {
          "output_type": "stream",
          "text": [
            "/usr/local/lib/python3.6/dist-packages/ipykernel_launcher.py:1: RuntimeWarning: invalid value encountered in power\n",
            "  \"\"\"Entry point for launching an IPython kernel.\n"
          ],
          "name": "stderr"
        },
        {
          "output_type": "display_data",
          "data": {
            "image/png": "[encoded data removed]",
            "text/plain": [
              "<Figure size 432x288 with 1 Axes>"
            ]
          },
          "metadata": {
            "tags": []
          }
        }
      ]
    },
    {
      "cell_type": "code",
      "metadata": {
        "id": "jUiG1i8jeXEd",
        "colab_type": "code",
        "colab": {
          "base_uri": "https://localhost:8080/",
          "height": 265
        },
        "outputId": "2de53b5f-a08a-4501-9f64-400855dd5d67"
      },
      "source": [
        "distancia=[]\n",
        "tiempo=[]\n",
        "\n",
        "for a in range(0,10):\n",
        "  tiempo.append(float(a))\n",
        "  distancia.append(float(2*a**2))\n",
        "\n",
        "plt.plot(tiempo,distancia)\n",
        "plt.show()\n",
        "\n",
        "\n"
      ],
      "execution_count": null,
      "outputs": [
        {
          "output_type": "display_data",
          "data": {
            "image/png": "[encoded data removed]",
            "text/plain": [
              "<Figure size 432x288 with 1 Axes>"
            ]
          },
          "metadata": {
            "tags": []
          }
        }
      ]
    },
    {
      "cell_type": "code",
      "metadata": {
        "id": "h1AcSrkUfYZu",
        "colab_type": "code",
        "colab": {
          "base_uri": "https://localhost:8080/",
          "height": 302
        },
        "outputId": "48a77849-818c-40d2-d9ff-7734dc7e4ed0"
      },
      "source": [
        "import re\n",
        "\n",
        "x=range(1,20)\n",
        "\n",
        "def fun(i):\n",
        "  g=eval(re.sub(\"x\",str(i),d))\n",
        "  return g\n",
        "\n",
        "d=input(\"Cual es la funcion\")\n",
        "\n",
        "plt.plot(x,[fun(i) for i in x])\n"
      ],
      "execution_count": null,
      "outputs": [
        {
          "output_type": "stream",
          "text": [
            "Cual es la funcionx**2\n"
          ],
          "name": "stdout"
        },
        {
          "output_type": "execute_result",
          "data": {
            "text/plain": [
              "[<matplotlib.lines.Line2D at 0x7f0f13658fd0>]"
            ]
          },
          "metadata": {
            "tags": []
          },
          "execution_count": 5
        },
        {
          "output_type": "display_data",
          "data": {
            "image/png": "[encoded data removed]",
            "text/plain": [
              "<Figure size 432x288 with 1 Axes>"
            ]
          },
          "metadata": {
            "tags": []
          }
        }
      ]
    },
    {
      "cell_type": "code",
      "metadata": {
        "id": "e8IvXWoNhjP1",
        "colab_type": "code",
        "colab": {
          "base_uri": "https://localhost:8080/",
          "height": 35
        },
        "outputId": "461ca452-3215-4a1f-8ff8-e2f4b844fbcc"
      },
      "source": [
        "from sympy import Symbol\n",
        "x=Symbol(\"x\")\n",
        "y=2*x**2\n",
        "derivada=y.diff(x)\n",
        "print(derivada)\n"
      ],
      "execution_count": null,
      "outputs": [
        {
          "output_type": "stream",
          "text": [
            "4*x\n"
          ],
          "name": "stdout"
        }
      ]
    },
    {
      "cell_type": "code",
      "metadata": {
        "id": "ilLNzdkE0ELD",
        "colab_type": "code",
        "colab": {
          "base_uri": "https://localhost:8080/",
          "height": 283
        },
        "outputId": "5dfe3b63-65ca-4d21-8106-0cfa3f75e906"
      },
      "source": [
        "import re\n",
        "\n",
        "distancia=[]\n",
        "tiempo=[]\n",
        "\n",
        "d=input(\"Cual es la funcion\")\n",
        "\n",
        "for a in range(-10,10):\n",
        "  \n",
        "  tiempo.append(float(a))\n",
        "  distancia.append(float(eval(re.sub(\"x\",str(a),d))))\n",
        "\n",
        "plt.plot(tiempo,distancia)\n",
        "plt.show()"
      ],
      "execution_count": null,
      "outputs": [
        {
          "output_type": "stream",
          "text": [
            "Cual es la funcion1/x\n"
          ],
          "name": "stdout"
        },
        {
          "output_type": "display_data",
          "data": {
            "image/png": "[encoded data removed]",
            "text/plain": [
              "<Figure size 432x288 with 1 Axes>"
            ]
          },
          "metadata": {
            "tags": []
          }
        }
      ]
    }
  ]
}