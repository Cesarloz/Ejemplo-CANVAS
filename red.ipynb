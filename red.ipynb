{
  "nbformat": 4,
  "nbformat_minor": 0,
  "metadata": {
    "colab": {
      "name": "Untitled0.ipynb",
      "provenance": [],
      "collapsed_sections": [],
      "include_colab_link": true
    },
    "kernelspec": {
      "name": "python3",
      "display_name": "Python 3"
    }
  },
  "cells": [
    {
      "cell_type": "markdown",
      "metadata": {
        "id": "view-in-github",
        "colab_type": "text"
      },
      "source": [
        "<a href=\"https://colab.research.google.com/github/Cesarloz/Ejemplo-CANVAS/blob/master/red.ipynb\" target=\"_parent\"><img src=\"https://colab.research.google.com/assets/colab-badge.svg\" alt=\"Open In Colab\"/></a>"
      ]
    },
    {
      "cell_type": "code",
      "metadata": {
        "id": "pDnopv-HxC09",
        "colab_type": "code",
        "colab": {}
      },
      "source": [
        "import numpy as np \n",
        "import scipy as sc \n",
        "import matplotlib.pyplot as plt \n",
        "from sklearn.datasets import make_circles"
      ],
      "execution_count": null,
      "outputs": []
    },
    {
      "cell_type": "code",
      "metadata": {
        "id": "OJOOv_Qrxvzr",
        "colab_type": "code",
        "colab": {
          "base_uri": "https://localhost:8080/",
          "height": 547
        },
        "outputId": "f5ad65a7-e679-45d5-f45e-50a389fc0e9c"
      },
      "source": [
        "n=500\n",
        "p=2\n",
        "X,Y= make_circles(n_samples=n,factor=0.5, noise=0.05)\n",
        "print(Y)\n",
        "plt.scatter(X[Y==0,0],X[Y==0,1],c=\"skyblue\")\n",
        "plt.scatter(X[Y==1,0],X[Y==1,1],c=\"salmon\")\n",
        "plt.axis(\"equal\")\n",
        "plt.show()\n"
      ],
      "execution_count": null,
      "outputs": [
        {
          "output_type": "stream",
          "text": [
            "[1 0 1 0 0 0 0 0 1 1 1 1 1 0 0 1 0 0 1 1 0 0 1 1 0 1 0 0 1 1 1 1 0 1 0 1 1\n",
            " 0 1 1 1 0 1 1 0 0 0 1 0 0 1 0 0 0 0 0 1 0 0 0 1 0 1 1 0 1 0 1 0 1 0 0 0 1\n",
            " 0 0 0 1 1 1 1 1 1 0 0 1 0 0 0 1 0 1 0 0 0 1 0 1 1 1 0 1 0 1 1 0 1 1 1 0 0\n",
            " 1 1 0 1 1 0 0 1 1 0 0 0 1 1 1 0 0 0 0 0 0 0 0 1 0 0 1 1 0 1 1 1 1 1 0 0 0\n",
            " 0 0 0 0 0 1 0 0 1 0 1 0 1 1 0 1 1 1 0 1 1 1 0 0 0 0 1 0 1 0 0 0 1 1 0 0 0\n",
            " 0 1 0 1 0 1 1 1 0 1 1 1 0 0 0 0 1 1 1 0 0 1 0 0 0 0 1 1 1 0 1 1 0 0 0 0 0\n",
            " 0 0 1 0 0 1 1 0 0 1 1 0 1 0 0 1 0 1 1 1 1 1 1 1 1 1 1 1 0 0 0 1 1 0 1 0 1\n",
            " 1 1 1 1 1 1 0 1 1 1 1 1 0 0 0 1 1 1 1 1 0 0 0 0 1 1 0 1 0 1 0 1 1 1 1 1 0\n",
            " 1 0 0 0 1 0 0 0 0 0 1 1 0 1 0 0 0 0 0 0 0 0 1 0 1 1 0 0 0 1 0 1 0 1 0 0 1\n",
            " 0 1 1 0 1 0 1 1 0 1 1 1 0 0 0 1 0 1 0 0 0 0 1 1 1 0 1 0 0 0 0 1 1 0 1 1 1\n",
            " 1 1 1 1 1 1 1 0 0 1 1 1 1 1 0 0 1 0 1 0 0 0 1 0 1 0 0 1 1 1 0 0 1 0 1 1 1\n",
            " 1 1 1 0 1 1 0 1 0 0 0 1 0 0 0 1 0 1 1 1 1 1 1 0 1 1 1 1 1 1 1 0 0 1 1 0 0\n",
            " 1 0 0 0 0 1 0 0 0 0 1 0 1 1 0 0 1 1 0 0 0 1 0 0 1 1 0 0 0 0 1 0 1 0 0 1 0\n",
            " 0 0 1 0 1 1 1 1 0 0 1 1 0 0 1 1 0 0 1]\n"
          ],
          "name": "stdout"
        },
        {
          "output_type": "display_data",
          "data": {
            "image/png": "[encoded data removed]",
            "text/plain": [
              "<Figure size 432x288 with 1 Axes>"
            ]
          },
          "metadata": {
            "tags": []
          }
        }
      ]
    },
    {
      "cell_type": "code",
      "metadata": {
        "id": "JJo5jpBe0Lki",
        "colab_type": "code",
        "colab": {}
      },
      "source": [
        "class neural_layer():\n",
        "  def __init__(self,n_conn,n_neur,act_f):\n",
        "    self.act_f=act_f\n",
        "    self.b=np.random.rand(1,n_neur)*2-1\n",
        "    self.W=np.random.rand(n_conn,n_neur)*2-1\n",
        "\n"
      ],
      "execution_count": null,
      "outputs": []
    },
    {
      "cell_type": "code",
      "metadata": {
        "id": "tMltgO_E1FvZ",
        "colab_type": "code",
        "colab": {
          "base_uri": "https://localhost:8080/",
          "height": 306
        },
        "outputId": "478cf036-e266-4367-cd20-f5e5dd72b1a5"
      },
      "source": [
        "sign=(lambda x:1/(1+np.e**(-x)),\n",
        "      lambda x:x*(1-x))\n",
        "\n",
        "relu= lambda x:np.maximum(0,x)\n",
        "\n",
        "_x=np.linspace(-5,5,100)\n",
        "plt.plot(_x,sign[0](_x))\n",
        "plt.plot(_x,relu(_x))"
      ],
      "execution_count": null,
      "outputs": [
        {
          "output_type": "execute_result",
          "data": {
            "text/plain": [
              "[<matplotlib.lines.Line2D at 0x7fb07ea74320>]"
            ]
          },
          "metadata": {
            "tags": []
          },
          "execution_count": 22
        },
        {
          "output_type": "display_data",
          "data": {
            "image/png": "[encoded data removed]",
            "text/plain": [
              "<Figure size 432x288 with 1 Axes>"
            ]
          },
          "metadata": {
            "tags": []
          }
        }
      ]
    },
    {
      "cell_type": "code",
      "metadata": {
        "id": "zIgaVlxm3Kxa",
        "colab_type": "code",
        "colab": {
          "base_uri": "https://localhost:8080/",
          "height": 158
        },
        "outputId": "b8d401b4-ba78-46d2-f839-9dc7d8a1ed7d"
      },
      "source": [
        "l0=neural_layer(p,4,sign)\n",
        "l1=neural_layer(4,8,sign)\n",
        "topology=[p,4,8,16,8,4,1]\n",
        "def create_nn(topology,act_f):\n",
        "  nn=[]\n",
        "  for l,layer in enumerate(topology[:-1]):\n",
        "    nn.append(neural_layer(topology[l],topology[l+1],act_f))\n",
        "  return nn\n",
        "\n"
      ],
      "execution_count": null,
      "outputs": [
        {
          "output_type": "execute_result",
          "data": {
            "text/plain": [
              "[<__main__.neural_layer at 0x7fb07e901748>,\n",
              " <__main__.neural_layer at 0x7fb07e901828>,\n",
              " <__main__.neural_layer at 0x7fb07e901860>,\n",
              " <__main__.neural_layer at 0x7fb07e901898>,\n",
              " <__main__.neural_layer at 0x7fb07e9018d0>,\n",
              " <__main__.neural_layer at 0x7fb07e901908>]"
            ]
          },
          "metadata": {
            "tags": []
          },
          "execution_count": 30
        }
      ]
    },
    {
      "cell_type": "code",
      "metadata": {
        "id": "JVO-_d3n66DI",
        "colab_type": "code",
        "colab": {
          "base_uri": "https://localhost:8080/",
          "height": 173
        },
        "outputId": "c4cc211b-6f1b-470d-fe4a-3b854ac0d55e"
      },
      "source": [
        "\n",
        "topology=[p,4,8,16,8,4,1]\n",
        "neural_net=create_nn(topology,sign)\n",
        "\n",
        "l2_cost=(lambda Yp,Yr:np.mean((Yp-Yr)**2),\n",
        "         lambda Yp,Yr: (Yp-Yr))\n",
        "\n",
        "def train(neural_net,X,Y,l2_cost,lr=0.5,train=True):\n",
        "  out=[(None,X)]\n",
        "  for l, layer in enumerate(neural_net):\n",
        "    z= out[-1][1]@neural_net[l].W + neural_net[l].b\n",
        "    a=neural_net[l].act_f[0](z)\n",
        "    out.append((z,a))\n",
        "\n",
        "  print(l2_cost[0](out[-1][1],Y))\n",
        "  if train:\n",
        "    deltas =[]\n",
        "    for l in reversed(range(0,len(neural_net))):\n",
        "      z=out[l+1][0]\n",
        "      a=out[l+1][0]\n",
        "      print(a.shape)\n",
        "      if l==len(neural_net)-1:\n",
        "        deltas.insert(0,l2_cost[1](a,Y)*neural_net[l].act_f[1](a))\n",
        "      else:\n",
        "        deltas.insert(0,deltas[0]@neural_net[l+1].W * neural_net[l].act_f[1](a))\n",
        "    \n",
        "      neural_net[1].b=neural_net[1].b - np.mean(deltas[0],axis=0,keepdims=True)*lr\n",
        "\n",
        "\n",
        "\n",
        "      #else\n",
        "\n",
        "\n",
        "train(neural_net,X,Y,l2_cost,0.5)\n",
        "\n",
        "\n"
      ],
      "execution_count": null,
      "outputs": [
        {
          "output_type": "stream",
          "text": [
            "0.2674503879744004\n",
            "(500, 1)\n",
            "(500, 4)\n",
            "(500, 8)\n",
            "(500, 16)\n",
            "(500, 8)\n",
            "(500, 4)\n"
          ],
          "name": "stdout"
        }
      ]
    },
    {
      "cell_type": "markdown",
      "metadata": {
        "id": "5K9PXUOS9iky",
        "colab_type": "text"
      },
      "source": [
        ""
      ]
    }
  ]
}