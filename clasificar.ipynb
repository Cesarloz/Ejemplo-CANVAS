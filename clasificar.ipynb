{
  "nbformat": 4,
  "nbformat_minor": 0,
  "metadata": {
    "colab": {
      "name": "Untitled2.ipynb",
      "provenance": [],
      "include_colab_link": true
    },
    "kernelspec": {
      "name": "python3",
      "display_name": "Python 3"
    }
  },
  "cells": [
    {
      "cell_type": "markdown",
      "metadata": {
        "id": "view-in-github",
        "colab_type": "text"
      },
      "source": [
        "<a href=\"https://colab.research.google.com/github/Cesarloz/Ejemplo-CANVAS/blob/master/clasificar.ipynb\" target=\"_parent\"><img src=\"https://colab.research.google.com/assets/colab-badge.svg\" alt=\"Open In Colab\"/></a>"
      ]
    },
    {
      "cell_type": "code",
      "metadata": {
        "id": "Decn27Jf5e1o",
        "colab_type": "code",
        "colab": {}
      },
      "source": [
        "import pandas as pd\n",
        "\n",
        "import numpy as np\n",
        "import matplotlib.pyplot as plt\n",
        "%matplotlib inline\n",
        "\n"
      ],
      "execution_count": 1,
      "outputs": []
    },
    {
      "cell_type": "code",
      "metadata": {
        "id": "xB_nVv2Z9aoI",
        "colab_type": "code",
        "colab": {}
      },
      "source": [
        "from google.colab import drive\n",
        "drive.mount('/content/drive')\n",
        "iris_data=pd.read_csv(\"/content/drive/My Drive/Colab Notebooks/iris.csv\")\n",
        "iris_data.head()\n",
        "\n",
        "\n",
        "features=iris_data.iloc[:,0:4].values\n",
        "labels= iris_data.iloc[:,4].values\n",
        "import sklearn\n",
        "from sklearn.model_selection import train_test_split\n",
        "train_features,test_features, train_labels,test_labels=train_test_split(features,labels,test_size=0.2,random_state=0)\n",
        "\n",
        "from sklearn.preprocessing import StandardScaler\n",
        "\n",
        "features_scaler= StandardScaler()\n",
        "\n",
        "train_features=features_scaler.fit_transform(train_features)\n",
        "\n",
        "test_features=features_scaler.transform(test_features)\n",
        "\n",
        "\n",
        "from sklearn.naive_bayes import GaussianNB\n",
        "\n",
        "nb_clf=GaussianNB()\n",
        "nb_clf.fit(train_features,train_labels)\n",
        "\n",
        "predictions=nb_clf.predict(test_features)\n",
        "\n",
        "\n",
        "comp=pd.DataFrame({\"real\":test_labels,\"prediccion\":predictions})\n",
        "print(comp)"
      ],
      "execution_count": null,
      "outputs": []
    },
    {
      "cell_type": "markdown",
      "metadata": {
        "id": "RxwYmD-892UL",
        "colab_type": "text"
      },
      "source": [
        ""
      ]
    },
    {
      "cell_type": "code",
      "metadata": {
        "id": "7Z7dsQw_Arbm",
        "colab_type": "code",
        "colab": {}
      },
      "source": [
        ""
      ],
      "execution_count": null,
      "outputs": []
    }
  ]
}