{
  "nbformat": 4,
  "nbformat_minor": 0,
  "metadata": {
    "colab": {
      "name": "Untitled5.ipynb",
      "provenance": [],
      "authorship_tag": "ABX9TyN0/WiYwUzGM1O4//QmnT8R",
      "include_colab_link": true
    },
    "kernelspec": {
      "name": "python3",
      "display_name": "Python 3"
    }
  },
  "cells": [
    {
      "cell_type": "markdown",
      "metadata": {
        "id": "view-in-github",
        "colab_type": "text"
      },
      "source": [
        "<a href=\"https://colab.research.google.com/github/Cesarloz/Ejemplo-CANVAS/blob/master/grafica%20verctor.ipynb\" target=\"_parent\"><img src=\"https://colab.research.google.com/assets/colab-badge.svg\" alt=\"Open In Colab\"/></a>"
      ]
    },
    {
      "cell_type": "code",
      "metadata": {
        "id": "Nt5rLq9MoTJM",
        "colab_type": "code",
        "colab": {}
      },
      "source": [
        "import matplotlib.pyplot as plt\n",
        "from warnings import filterwarnings\n",
        "\n",
        "%matplotlib inline\n",
        "filterwarnings('ignore') # Ignorar warnings\n",
        "\n",
        "def move_spines():\n",
        "    \"\"\"Crea la figura de pyplot y los ejes. Mueve las lineas de la izquierda y de abajo\n",
        "    para que se intersecten con el origen. Elimina las lineas de la derecha y la de arriba.\n",
        "    Devuelve los ejes.\"\"\"\n",
        "    fix, ax = plt.subplots()\n",
        "    for spine in [\"left\", \"bottom\"]:\n",
        "        ax.spines[spine].set_position(\"zero\")\n",
        "    \n",
        "    for spine in [\"right\", \"top\"]:\n",
        "        ax.spines[spine].set_color(\"none\")\n",
        "    \n",
        "    return ax\n",
        "\n",
        "\n",
        "def vect_fig(): \n",
        "    \"\"\"Genera el grafico de los vectores en el plano\"\"\"\n",
        "    ax = move_spines()\n",
        "    \n",
        "    ax.set_xlim(-5, 5)\n",
        "    ax.set_ylim(-5, 5)\n",
        "    ax.grid()\n",
        "    vecs = [[2, 4], [-3, 3]] # lista de vectores\n",
        "    for v in vecs:\n",
        "        ax.annotate(\" \", xy=v, xytext=[0, 0],\n",
        "                   arrowprops=dict(facecolor=\"blue\",\n",
        "                                  shrink=0,\n",
        "                                  alpha=0.7,\n",
        "                                  width=0.5))\n",
        "        ax.text(1.1 * v[0], 1.1 * v[1], v)\n"
      ],
      "execution_count": null,
      "outputs": []
    },
    {
      "cell_type": "code",
      "metadata": {
        "id": "E-4Z3rrGodQY",
        "colab_type": "code",
        "colab": {
          "base_uri": "https://localhost:8080/",
          "height": 248
        },
        "outputId": "42a6e536-8a4d-4653-ed98-9c9fbf93577c"
      },
      "source": [
        "\n",
        "vect_fig()"
      ],
      "execution_count": null,
      "outputs": [
        {
          "output_type": "display_data",
          "data": {
            "image/png": "[encoded data removed]",
            "text/plain": [
              "<Figure size 432x288 with 1 Axes>"
            ]
          },
          "metadata": {
            "tags": []
          }
        }
      ]
    }
  ]
}